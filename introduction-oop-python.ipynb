{
 "cells": [
  {
   "cell_type": "markdown",
   "metadata": {},
   "source": [
    "# Object oriented programming in Python\n",
    "\n",
    "## Definition of a class"
   ]
  },
  {
   "cell_type": "code",
   "execution_count": 3,
   "metadata": {},
   "outputs": [],
   "source": [
    "class ThisIsAClass:\n",
    "    pass"
   ]
  },
  {
   "cell_type": "markdown",
   "metadata": {},
   "source": [
    "A class definition contains the keyword `class` which is followed by the class name.\n",
    "\n",
    "Python 2 equivalent:\n",
    "```python\n",
    "class Animal(object):\n",
    "    pass\n",
    "```"
   ]
  },
  {
   "cell_type": "markdown",
   "metadata": {},
   "source": [
    "## Definition of class variables\n",
    "\n",
    "Class variables can be defined in the object initializer, static variables within the class body.\n",
    "\n",
    "The object initializer is defined with the `__init__(self, ...)` method."
   ]
  },
  {
   "cell_type": "code",
   "execution_count": 7,
   "metadata": {},
   "outputs": [
    {
     "name": "stdout",
     "output_type": "stream",
     "text": [
      "Animal1's name is: Pingu\n",
      "Pingu is saying Goodbye!\n"
     ]
    }
   ],
   "source": [
    "class Animal:\n",
    "    # static variable definition within class body\n",
    "    age = 42\n",
    "\n",
    "    # class variable definition within object initializer\n",
    "    def __init__(self, name):\n",
    "        self.name = name\n",
    "\n",
    "    def __del__(self):\n",
    "        print(f\"{self.name} is saying Goodbye!\")\n",
    "\n",
    "animal1 = Animal(\"Pingu\")                       # calling Animal's \"constructor\"\n",
    "print(f\"Animal1's name is: {animal1.name}\")     # accessing Animal's variables\n",
    "del animal1                                     # calling Animal's \"destructor\""
   ]
  }
 ],
 "metadata": {
  "interpreter": {
   "hash": "1e84df4a150030eabb55304e8d3648d8a41821864f4805c34fc15caee6f90a5e"
  },
  "kernelspec": {
   "display_name": "Python 3.10.0 64-bit",
   "name": "python3"
  },
  "language_info": {
   "codemirror_mode": {
    "name": "ipython",
    "version": 3
   },
   "file_extension": ".py",
   "mimetype": "text/x-python",
   "name": "python",
   "nbconvert_exporter": "python",
   "pygments_lexer": "ipython3",
   "version": "3.10.0"
  },
  "orig_nbformat": 4
 },
 "nbformat": 4,
 "nbformat_minor": 2
}
