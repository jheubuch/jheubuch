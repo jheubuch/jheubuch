{
 "cells": [
  {
   "cell_type": "markdown",
   "metadata": {},
   "source": [
    "# Object oriented programming in Python\n",
    "\n",
    "## Definition of a class"
   ]
  },
  {
   "cell_type": "code",
   "execution_count": 3,
   "metadata": {},
   "outputs": [],
   "source": [
    "class ThisIsAClass:\n",
    "    pass"
   ]
  },
  {
   "cell_type": "markdown",
   "metadata": {},
   "source": [
    "A class definition contains the keyword `class` which is followed by the class name.\n",
    "\n",
    "Python 2 equivalent:\n",
    "```python\n",
    "class Animal(object):\n",
    "    pass\n",
    "```"
   ]
  },
  {
   "cell_type": "markdown",
   "metadata": {},
   "source": [
    "## The `self` keyword\n",
    "\n",
    "In Python, the `self` keyword is used in the context of use of objects and instances of classes.\n",
    "Whenever `self` is used within a class, it always refers to the instance of the class on which the method should be called or the variable should be accessed."
   ]
  },
  {
   "cell_type": "markdown",
   "metadata": {},
   "source": [
    "## Definition of class variables\n",
    "\n",
    "Class variables can be defined in the object initializer.\n",
    "\n",
    "The object initializer (\"constructor\") is defined with the `__init__(self, ...)` method. It is called right after the object creation. \n",
    "In this method, variables can be initialized and assigned to a object.\n",
    "\n",
    "The object finalizer (\"destructor\") is defined with the `__del__(self)` method. It is called when an object should be deleted (e.g. on a `del object` call)."
   ]
  },
  {
   "cell_type": "code",
   "execution_count": 6,
   "metadata": {},
   "outputs": [
    {
     "name": "stdout",
     "output_type": "stream",
     "text": [
      "Hello from object initializer!\n",
      "Animal1's name is: Pingu\n",
      "Pingu is saying Goodbye!\n"
     ]
    }
   ],
   "source": [
    "# class definition\n",
    "class Animal:\n",
    "    \n",
    "    # class variable definition within object initializer\n",
    "    def __init__(self, name):\n",
    "        print(\"Hello from object initializer!\")\n",
    "\n",
    "        # variable assignment to object\n",
    "        self.name = name\n",
    " \n",
    "    # object finalizer\n",
    "    def __del__(self):\n",
    "        print(f\"{self.name} is saying Goodbye!\")\n",
    "\n",
    "animal1 = Animal(\"Pingu\")                       # calling Animal's object initializer with parameter list from __init__\n",
    "print(f\"Animal1's name is: {animal1.name}\")     # accessing Animal's variables\n",
    "del animal1                                     # calling Animal's object finalizer"
   ]
  },
  {
   "cell_type": "markdown",
   "metadata": {},
   "source": [
    "## Static class members and methods\n",
    "\n",
    "Static class variables are defined within the class body. They are assigned without the `self` keyword, so the value is equal for all class instances and static calls.\n",
    "\n",
    "Static methods do not own the `self` parameter in the parameter list. Also the static method has to be annotated as one if it is planned to be used from a class instance."
   ]
  },
  {
   "cell_type": "code",
   "execution_count": 14,
   "metadata": {},
   "outputs": [
    {
     "name": "stdout",
     "output_type": "stream",
     "text": [
      "True\n",
      "Hello from first!\n",
      "Hello from second!\n"
     ]
    }
   ],
   "source": [
    "class StaticValues:\n",
    "    staticValue = 5\n",
    "\n",
    "    def firstStaticMethod():\n",
    "        print('Hello from first!')\n",
    "    firstStaticMethod = staticmethod(firstStaticMethod)\n",
    "\n",
    "    @staticmethod\n",
    "    def secondStaticMethod():\n",
    "        print('Hello from second!')\n",
    "\n",
    "obj1 = StaticValues()\n",
    "print(id(StaticValues.staticValue) == id(obj1.staticValue))\n",
    "obj1.firstStaticMethod()\n",
    "StaticValues.secondStaticMethod()"
   ]
  }
 ],
 "metadata": {
  "interpreter": {
   "hash": "1e84df4a150030eabb55304e8d3648d8a41821864f4805c34fc15caee6f90a5e"
  },
  "kernelspec": {
   "display_name": "Python 3.10.0 64-bit",
   "name": "python3"
  },
  "language_info": {
   "codemirror_mode": {
    "name": "ipython",
    "version": 3
   },
   "file_extension": ".py",
   "mimetype": "text/x-python",
   "name": "python",
   "nbconvert_exporter": "python",
   "pygments_lexer": "ipython3",
   "version": "3.10.0"
  },
  "orig_nbformat": 4
 },
 "nbformat": 4,
 "nbformat_minor": 2
}
