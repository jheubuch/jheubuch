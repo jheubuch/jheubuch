{
 "cells": [
  {
   "cell_type": "markdown",
   "metadata": {},
   "source": [
    "# Object oriented programming in Python\n",
    "\n",
    "## Definition of a class"
   ]
  },
  {
   "cell_type": "code",
   "execution_count": 1,
   "metadata": {},
   "outputs": [],
   "source": [
    "# class definition\n",
    "class ThisIsAClass:\n",
    "    pass\n",
    "\n",
    "# object creation\n",
    "obj = ThisIsAClass()"
   ]
  },
  {
   "cell_type": "markdown",
   "metadata": {},
   "source": [
    "A class definition contains the keyword `class` which is followed by the class name.\n",
    "\n",
    "Python 2 equivalent:\n",
    "```python\n",
    "class Animal(object):\n",
    "    pass\n",
    "```"
   ]
  },
  {
   "cell_type": "markdown",
   "metadata": {},
   "source": [
    "## The `self` keyword\n",
    "\n",
    "In Python, the `self` keyword is used in the context of use of objects and instances of classes.\n",
    "Whenever `self` is used within a class, it always refers to the instance of the class on which the method should be called or the variable should be accessed."
   ]
  },
  {
   "cell_type": "markdown",
   "metadata": {},
   "source": [
    "## Definition of class variables\n",
    "\n",
    "Class variables can be defined inside the object initializer (or any other method with a self parameter). It is recommended to do this in the object initializer.\n",
    "\n",
    "The object initializer (\"constructor\") is defined with the `__init__(self, ...)` method. It is called right after the object creation. \n",
    "In this method, variables can be initialized and assigned to a object.\n",
    "\n",
    "The object finalizer (\"destructor\") is defined with the `__del__(self)` method. It is called when an object should be deleted (e.g. on a `del object` call).\n",
    "\n",
    "## Visibility\n",
    "\n",
    "Class variables are public by default. An underscore can be used in front of the variable name to signalize that the variable should not be modified by others (`_myvar`).\n",
    "Private variables can be used by putting two underscores in front of the variable name (`__myprivatevar`). Then the variable is only accessible from within the class."
   ]
  },
  {
   "cell_type": "code",
   "execution_count": null,
   "metadata": {},
   "outputs": [],
   "source": [
    "# class definition\n",
    "class Animal:\n",
    "    \n",
    "    # class variable definition within object initializer\n",
    "    def __init__(self, name):\n",
    "        print(\"Hello from object initializer!\")\n",
    "\n",
    "        # variable assignment to object\n",
    "        self.__name = name\n",
    " \n",
    "    # object finalizer\n",
    "    def __del__(self):\n",
    "        print(f\"{self.__name} is saying Goodbye!\")\n",
    "\n",
    "    def getName(self):\n",
    "        return self.__name\n",
    "\n",
    "animal1 = Animal(\"Pingu\")                           # calling Animal's object initializer with parameter list from __init__\n",
    "print(f\"Animal1's name is: {animal1.getName()}\")    # accessing Animal's variables/methods\n",
    "del animal1                                         # calling Animal's object finalizer"
   ]
  },
  {
   "cell_type": "markdown",
   "metadata": {},
   "source": [
    "## Static class members and methods\n",
    "\n",
    "Static class variables are defined within the class body. They are assigned without the `self` keyword, so the value is equal for all class instances and static calls.\n",
    "\n",
    "Static methods do not own the `self` parameter in the parameter list. Also the static method has to be decorated as one if it is planned to be used from a class instance."
   ]
  },
  {
   "cell_type": "code",
   "execution_count": null,
   "metadata": {},
   "outputs": [],
   "source": [
    "class StaticValues:\n",
    "    staticValue = 5                                             # static class variable\n",
    "\n",
    "    def firstStaticMethod():\n",
    "        print('Hello from first!')\n",
    "    firstStaticMethod = staticmethod(firstStaticMethod)         # static class method -> can be used from instances\n",
    "\n",
    "    @staticmethod\n",
    "    def secondStaticMethod():\n",
    "        print('Hello from second!')                             # static class method -> can be used from instances\n",
    "\n",
    "    def thirdStaticMethod():\n",
    "        print('Hello from third!')                              # static class method -> can NOT be used from instances\n",
    "\n",
    "obj1 = StaticValues()\n",
    "print(id(StaticValues.staticValue) == id(obj1.staticValue))\n",
    "obj1.firstStaticMethod()\n",
    "obj1.secondStaticMethod()\n",
    "StaticValues.thirdStaticMethod()"
   ]
  },
  {
   "cell_type": "markdown",
   "metadata": {},
   "source": [
    "## Class inheritance\n",
    "\n",
    "Classes can inherit from each other. It is also possible to inherit from multiple classes at a time."
   ]
  },
  {
   "cell_type": "code",
   "execution_count": 2,
   "metadata": {},
   "outputs": [
    {
     "name": "stdout",
     "output_type": "stream",
     "text": [
      "Rocket 6\n",
      "Here, some guitar music\n"
     ]
    }
   ],
   "source": [
    "class Instrument:\n",
    "    def play():\n",
    "        pass\n",
    "    pass\n",
    "\n",
    "class WoodenInstrument(Instrument):\n",
    "    def __init__(self, name = None, **kwargs):\n",
    "        super().__init__(**kwargs)\n",
    "        self.name = name\n",
    "\n",
    "class StringInstrument(Instrument):\n",
    "    def __init__(self, stringCount = None, **kwargs):\n",
    "        super().__init__(**kwargs)\n",
    "        self.stringCount = stringCount\n",
    "\n",
    "class Guitar(WoodenInstrument, StringInstrument):\n",
    "    def __init__(self, name, stringCount):\n",
    "        super(Guitar, self).__init__(name = name, stringCount = stringCount)\n",
    "\n",
    "    def play(self):\n",
    "        print('Here, some guitar music')\n",
    "\n",
    "guitar = Guitar(\"Rocket\", 6)\n",
    "print(f\"{guitar.name} {guitar.stringCount}\")\n",
    "\n",
    "if (isinstance(guitar, Instrument)):\n",
    "    guitar.play()"
   ]
  },
  {
   "cell_type": "markdown",
   "metadata": {},
   "source": [
    "## Magic methods\n",
    "\n",
    "Magic methods are methods which names start and end with a double underscore (`__init__()`). Those methods are not supposed to be called directly. Instead they are called by the system\n",
    "on different types of events like operator use (`+` would be `__add__()`) or instance lifecycle events(`__del__()`)."
   ]
  },
  {
   "cell_type": "code",
   "execution_count": 5,
   "metadata": {},
   "outputs": [
    {
     "name": "stdout",
     "output_type": "stream",
     "text": [
      "1 + 2 = 3\n",
      "Number(3, 1499763030192)\n"
     ]
    }
   ],
   "source": [
    "class Number:\n",
    "    def __init__(self, value):\n",
    "        self.value = value\n",
    "\n",
    "    def __add__(self, other):\n",
    "        return Number(self.value + other.value)\n",
    "\n",
    "    def __str__(self):\n",
    "        return str(self.value)\n",
    "\n",
    "    def __repr__(self):\n",
    "        return f\"Number({self.value}, {id(self)})\"\n",
    "\n",
    "no1 = Number(1)\n",
    "no2 = Number(2)\n",
    "no3 = no1 + no2\n",
    "\n",
    "print(f\"{no1} + {no2} = {no3}\")\n",
    "print(repr(no3))"
   ]
  },
  {
   "cell_type": "markdown",
   "metadata": {},
   "source": [
    "### Other examples for magic methods\n",
    "\n",
    "|Magic method name|Called when|\n",
    "|--|--|\n",
    "|`__new__()`|right before the object initializer|\n",
    "|`__ge__()`|On use of the `>=` operator|\n",
    "|`__floordiv__()`|On a floor definition (`//` operator)|\n",
    "|`__truediv__()`|On a division operation(`/` operator)|\n",
    "|`__pow__()`|On use of the power operator (`**`)|\n",
    "|...|...|"
   ]
  }
 ],
 "metadata": {
  "interpreter": {
   "hash": "1e84df4a150030eabb55304e8d3648d8a41821864f4805c34fc15caee6f90a5e"
  },
  "kernelspec": {
   "display_name": "Python 3.10.0 64-bit",
   "name": "python3"
  },
  "language_info": {
   "codemirror_mode": {
    "name": "ipython",
    "version": 3
   },
   "file_extension": ".py",
   "mimetype": "text/x-python",
   "name": "python",
   "nbconvert_exporter": "python",
   "pygments_lexer": "ipython3",
   "version": "3.10.0"
  },
  "orig_nbformat": 4
 },
 "nbformat": 4,
 "nbformat_minor": 2
}
